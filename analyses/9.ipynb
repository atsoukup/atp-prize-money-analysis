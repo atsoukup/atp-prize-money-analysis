{
 "cells": [
  {
   "cell_type": "code",
   "execution_count": 26,
   "metadata": {},
   "outputs": [],
   "source": [
    "import pandas as pd\n",
    "import datetime"
   ]
  },
  {
   "cell_type": "code",
   "execution_count": 33,
   "metadata": {},
   "outputs": [],
   "source": [
    "END_YEAR = datetime.datetime.now().year - 1\n",
    "TOP_100 = 100\n",
    "TOP_100_BASELINE = 300000\n",
    "TOP_175 = 175\n",
    "TOP_175_BASELINE = 150000\n",
    "TOP_250 = 250\n",
    "TOP_250_BASELINE = 75000"
   ]
  },
  {
   "cell_type": "code",
   "execution_count": 34,
   "metadata": {},
   "outputs": [],
   "source": [
    "singles_df = pd.read_csv(f\"../data/players/clean/singles/{END_YEAR}.gz\")\n",
    "total_players_affected = 0\n",
    "total_additional_prize_money = 0"
   ]
  },
  {
   "cell_type": "code",
   "execution_count": 35,
   "metadata": {},
   "outputs": [
    {
     "name": "stdout",
     "output_type": "stream",
     "text": [
      "Constant Lestienne: Prize Money Earned - $252633, Additional Prize Money - $47367\n",
      "Gregoire Barrere: Prize Money Earned - $219579, Additional Prize Money - $80421\n",
      "Ben Shelton: Prize Money Earned - $205138, Additional Prize Money - $94862\n",
      "Tomas Machac: Prize Money Earned - $258117, Additional Prize Money - $41883\n",
      "Vasek Pospisil: Prize Money Earned - $166523, Additional Prize Money - $133477\n",
      "Zhizhen Zhang: Prize Money Earned - $184878, Additional Prize Money - $115122\n",
      "\n",
      "Total Players Affected (1 - 100): 6\n",
      "Total Additional Prize Money (1 - 100): $513132\n"
     ]
    }
   ],
   "source": [
    "players_affected = 0\n",
    "additional_prize_money = 0\n",
    "\n",
    "for rank in range(1, TOP_100 + 1):\n",
    "    player = singles_df.loc[singles_df[\"ranking\"] == rank]\n",
    "\n",
    "    if player[\"prize_money\"].values[0] < TOP_100_BASELINE:\n",
    "        players_affected += 1\n",
    "        player_name = player[\"name\"].values[0]\n",
    "        prize_money = round(player[\"prize_money\"].values[0])\n",
    "        additional_money = TOP_100_BASELINE - prize_money\n",
    "        additional_prize_money += additional_money\n",
    "\n",
    "        print(f\"{player_name}: Prize Money Earned - ${prize_money}, Additional Prize Money - ${additional_money}\")\n",
    "\n",
    "total_players_affected += players_affected\n",
    "total_additional_prize_money += additional_prize_money\n",
    "\n",
    "print(f\"\\nTotal Players Affected (1 - 100): {players_affected}\")\n",
    "print(f\"Total Additional Prize Money (1 - 100): ${additional_prize_money}\")"
   ]
  },
  {
   "cell_type": "code",
   "execution_count": 36,
   "metadata": {},
   "outputs": [
    {
     "name": "stdout",
     "output_type": "stream",
     "text": [
      "Jelle Sels: Prize Money Earned - $61890, Additional Prize Money - $88110\n",
      "Lukas Klein: Prize Money Earned - $95938, Additional Prize Money - $54062\n",
      "Luca Van Assche: Prize Money Earned - $67126, Additional Prize Money - $82874\n",
      "Vit Kopriva: Prize Money Earned - $123891, Additional Prize Money - $26109\n",
      "Timofey Skatov: Prize Money Earned - $132280, Additional Prize Money - $17720\n",
      "Yosuke Watanuki: Prize Money Earned - $85720, Additional Prize Money - $64280\n",
      "Filip Misolic: Prize Money Earned - $132115, Additional Prize Money - $17885\n",
      "Mattia Bellucci: Prize Money Earned - $43466, Additional Prize Money - $106534\n",
      "Alexander Shevchenko: Prize Money Earned - $130553, Additional Prize Money - $19447\n",
      "Leandro Riedi: Prize Money Earned - $46696, Additional Prize Money - $103304\n",
      "Aleksandar Kovacevic: Prize Money Earned - $108630, Additional Prize Money - $41370\n",
      "Alexandre Muller: Prize Money Earned - $117308, Additional Prize Money - $32692\n",
      "Zsombor Piros: Prize Money Earned - $125455, Additional Prize Money - $24545\n",
      "Felipe Meligeni Alves: Prize Money Earned - $113755, Additional Prize Money - $36245\n",
      "Fabian Marozsan: Prize Money Earned - $30070, Additional Prize Money - $119930\n",
      "Otto Virtanen: Prize Money Earned - $40977, Additional Prize Money - $109023\n",
      "\n",
      "Total Players Affected (101 - 175): 16\n",
      "Total Additional Prize Money (101 - 175): $944130\n"
     ]
    }
   ],
   "source": [
    "players_affected = 0\n",
    "additional_prize_money = 0\n",
    "\n",
    "for rank in range(TOP_100 + 1, TOP_175 + 1):\n",
    "    player = singles_df.loc[singles_df[\"ranking\"] == rank]\n",
    "\n",
    "    if player[\"prize_money\"].values[0] < TOP_175_BASELINE:\n",
    "        players_affected += 1\n",
    "        player_name = player[\"name\"].values[0]\n",
    "        prize_money = round(player[\"prize_money\"].values[0])\n",
    "        additional_money = TOP_175_BASELINE - prize_money\n",
    "        additional_prize_money += additional_money\n",
    "\n",
    "\n",
    "        print(f\"{player_name}: Prize Money Earned - ${prize_money}, Additional Prize Money - ${additional_money}\")\n",
    "\n",
    "total_players_affected += players_affected\n",
    "total_additional_prize_money += additional_prize_money\n",
    "\n",
    "print(f\"\\nTotal Players Affected (101 - 175): {players_affected}\")\n",
    "print(f\"Total Additional Prize Money (101 - 175): ${additional_prize_money}\")"
   ]
  },
  {
   "cell_type": "code",
   "execution_count": 37,
   "metadata": {},
   "outputs": [
    {
     "name": "stdout",
     "output_type": "stream",
     "text": [
      "Oleksii Krutykh: Prize Money Earned - $35695, Additional Prize Money - $39305\n",
      "Adrian Andreev: Prize Money Earned - $35787, Additional Prize Money - $39213\n",
      "Facundo Diaz Acosta: Prize Money Earned - $64395, Additional Prize Money - $10605\n",
      "Frederico Ferreira Silva: Prize Money Earned - $63708, Additional Prize Money - $11292\n",
      "Nick Hardt: Prize Money Earned - $33955, Additional Prize Money - $41045\n",
      "Laurent Lokoli: Prize Money Earned - $69058, Additional Prize Money - $5942\n",
      "Luciano Darderi: Prize Money Earned - $48611, Additional Prize Money - $26389\n",
      "Alexis Galarneau: Prize Money Earned - $49073, Additional Prize Money - $25927\n",
      "Rio Noguchi: Prize Money Earned - $53396, Additional Prize Money - $21604\n",
      "Li Tu: Prize Money Earned - $58641, Additional Prize Money - $16359\n",
      "Nicolas Moreno De Alboran: Prize Money Earned - $65535, Additional Prize Money - $9465\n",
      "Kimmer Coppejans: Prize Money Earned - $48375, Additional Prize Money - $26625\n",
      "Yu Hsiou Hsu: Prize Money Earned - $32553, Additional Prize Money - $42447\n",
      "Genaro Alberto Olivieri: Prize Money Earned - $63437, Additional Prize Money - $11563\n",
      "Gabriel Diallo: Prize Money Earned - $33541, Additional Prize Money - $41459\n",
      "Omar Jasika: Prize Money Earned - $31264, Additional Prize Money - $43736\n",
      "Nicholas David Ionel: Prize Money Earned - $39922, Additional Prize Money - $35078\n",
      "Miljan Zekic: Prize Money Earned - $44266, Additional Prize Money - $30734\n",
      "Skander Mansouri: Prize Money Earned - $36943, Additional Prize Money - $38057\n",
      "Roman Andres Burruchaga: Prize Money Earned - $28774, Additional Prize Money - $46226\n",
      "Nerman Fatic: Prize Money Earned - $32548, Additional Prize Money - $42452\n",
      "Ivan Gakhov: Prize Money Earned - $29562, Additional Prize Money - $45438\n",
      "Mariano Navone: Prize Money Earned - $24931, Additional Prize Money - $50069\n",
      "Nam Hoang Ly: Prize Money Earned - $28130, Additional Prize Money - $46870\n",
      "Jan Choinski: Prize Money Earned - $24564, Additional Prize Money - $50436\n",
      "Dane Sweeny: Prize Money Earned - $56898, Additional Prize Money - $18102\n",
      "Matteo Gigante: Prize Money Earned - $25363, Additional Prize Money - $49637\n",
      "\n",
      "Total Players Affected (176 - 250): 27\n",
      "Total Additional Prize Money (176 - 250): $866075\n"
     ]
    }
   ],
   "source": [
    "players_affected = 0\n",
    "additional_prize_money = 0\n",
    "for rank in range(TOP_175 + 1, TOP_250 + 1):\n",
    "    player = singles_df.loc[singles_df[\"ranking\"] == rank]\n",
    "\n",
    "    if player[\"prize_money\"].values[0] < TOP_250_BASELINE:\n",
    "        players_affected += 1\n",
    "        player_name = player[\"name\"].values[0]\n",
    "        prize_money = round(player[\"prize_money\"].values[0])\n",
    "        additional_money = TOP_250_BASELINE - prize_money\n",
    "        additional_prize_money += additional_money\n",
    "\n",
    "        print(f\"{player_name}: Prize Money Earned - ${prize_money}, Additional Prize Money - ${additional_money}\")\n",
    "\n",
    "total_players_affected += players_affected\n",
    "total_additional_prize_money += additional_prize_money\n",
    "\n",
    "print(f\"\\nTotal Players Affected (176 - 250): {players_affected}\")\n",
    "print(f\"Total Additional Prize Money (176 - 250): ${additional_prize_money}\")"
   ]
  },
  {
   "cell_type": "code",
   "execution_count": 38,
   "metadata": {},
   "outputs": [
    {
     "name": "stdout",
     "output_type": "stream",
     "text": [
      "\n",
      "Total Players Affected: 49\n",
      "Total Additional Prize Money: $2323337\n"
     ]
    }
   ],
   "source": [
    "print(f\"\\nTotal Players Affected: {total_players_affected}\")\n",
    "print(f\"Total Additional Prize Money: ${total_additional_prize_money}\")"
   ]
  }
 ],
 "metadata": {
  "kernelspec": {
   "display_name": "Python 3",
   "language": "python",
   "name": "python3"
  },
  "language_info": {
   "codemirror_mode": {
    "name": "ipython",
    "version": 3
   },
   "file_extension": ".py",
   "mimetype": "text/x-python",
   "name": "python",
   "nbconvert_exporter": "python",
   "pygments_lexer": "ipython3",
   "version": "3.10.6"
  }
 },
 "nbformat": 4,
 "nbformat_minor": 2
}
