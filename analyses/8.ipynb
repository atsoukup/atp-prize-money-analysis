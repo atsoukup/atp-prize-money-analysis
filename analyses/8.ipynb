{
 "cells": [
  {
   "cell_type": "code",
   "execution_count": 7,
   "metadata": {},
   "outputs": [],
   "source": [
    "import pandas as pd\n",
    "import datetime\n",
    "import json"
   ]
  },
  {
   "cell_type": "code",
   "execution_count": 81,
   "metadata": {},
   "outputs": [],
   "source": [
    "END_YEAR = datetime.datetime.now().year - 1\n",
    "CHALLENGER_PRIZE_MONEY_FACTOR = 5\n",
    "MIN_EARNINGS = 100000"
   ]
  },
  {
   "cell_type": "code",
   "execution_count": 82,
   "metadata": {},
   "outputs": [],
   "source": [
    "def clean_tournaments_string(tournaments_string):\n",
    "    return tournaments_string.replace(\"'\", '\"')"
   ]
  },
  {
   "cell_type": "code",
   "execution_count": 83,
   "metadata": {},
   "outputs": [
    {
     "name": "stdout",
     "output_type": "stream",
     "text": [
      "Total additional prize money: 41457480\n"
     ]
    }
   ],
   "source": [
    "experimental_data = []\n",
    "total_additional_prize_money = 0\n",
    "\n",
    "df = pd.read_csv(f\"../data/players/combined/{END_YEAR}.gz\")\n",
    "for i, _ in df.iterrows():\n",
    "    player_prize_money = df.loc[i, \"total_prize_money\"]\n",
    "\n",
    "    clean_singles = clean_tournaments_string(df.loc[i, \"singles_tournaments\"])\n",
    "    singles_tournaments = json.loads(clean_singles[clean_singles.find(\"[\"):])\n",
    "\n",
    "    for singles_tournament in singles_tournaments:\n",
    "        if \"challenger\" in singles_tournament[\"tournament_type\"].lower():\n",
    "            tournament_prize_money = int(singles_tournament[\"prize_money\"][1:])\n",
    "            additional_prize_money = tournament_prize_money * (CHALLENGER_PRIZE_MONEY_FACTOR - 1)\n",
    "\n",
    "            player_prize_money += additional_prize_money\n",
    "            total_additional_prize_money += additional_prize_money\n",
    "\n",
    "    clean_doubles = clean_tournaments_string(df.loc[i, \"doubles_tournaments\"])\n",
    "    doubles_tournaments = json.loads(clean_doubles[clean_doubles.find(\"[\"):])\n",
    "    for doubles_tournament in doubles_tournaments:\n",
    "        if \"challenger\" in doubles_tournament[\"tournament_type\"].lower():\n",
    "            tournament_prize_money = int(doubles_tournament[\"prize_money\"][1:])\n",
    "            additional_prize_money = tournament_prize_money * (CHALLENGER_PRIZE_MONEY_FACTOR - 1)\n",
    "\n",
    "            player_prize_money += additional_prize_money\n",
    "            total_additional_prize_money += additional_prize_money\n",
    "\n",
    "    experimental_data.append({\n",
    "        \"player_id\": df.loc[i, \"player_id\"],\n",
    "        \"type\": df.loc[i, \"type\"],\n",
    "        \"total_prize_money\": player_prize_money,\n",
    "        \"singles_tournaments\": singles_tournaments,\n",
    "        \"doubles_tournaments\": doubles_tournaments\n",
    "    })\n",
    "\n",
    "experimental_df = pd.DataFrame(experimental_data)\n",
    "print(\"Total additional prize money:\", total_additional_prize_money)\n"
   ]
  },
  {
   "cell_type": "code",
   "execution_count": 84,
   "metadata": {},
   "outputs": [],
   "source": [
    "data = []\n",
    "total = 0\n",
    "singles = 0\n",
    "doubles = 0\n",
    "\n",
    "for i, row in experimental_df.iterrows():\n",
    "    if row[\"total_prize_money\"] >= MIN_EARNINGS:\n",
    "        total += 1\n",
    "        if row[\"type\"] == \"singles\":\n",
    "            singles += 1\n",
    "        elif row[\"type\"] == \"doubles\":\n",
    "            doubles += 1\n",
    "\n",
    "data.append({\n",
    "    \"year\": END_YEAR,\n",
    "    \"total\": total,\n",
    "    \"singles\": singles,\n",
    "    \"doubles\": doubles,\n",
    "})\n",
    "\n",
    "results = pd.DataFrame(data)"
   ]
  },
  {
   "cell_type": "code",
   "execution_count": 85,
   "metadata": {},
   "outputs": [
    {
     "data": {
      "text/html": [
       "<div>\n",
       "<style scoped>\n",
       "    .dataframe tbody tr th:only-of-type {\n",
       "        vertical-align: middle;\n",
       "    }\n",
       "\n",
       "    .dataframe tbody tr th {\n",
       "        vertical-align: top;\n",
       "    }\n",
       "\n",
       "    .dataframe thead th {\n",
       "        text-align: right;\n",
       "    }\n",
       "</style>\n",
       "<table border=\"1\" class=\"dataframe\">\n",
       "  <thead>\n",
       "    <tr style=\"text-align: right;\">\n",
       "      <th></th>\n",
       "      <th>year</th>\n",
       "      <th>total</th>\n",
       "      <th>singles</th>\n",
       "      <th>doubles</th>\n",
       "    </tr>\n",
       "  </thead>\n",
       "  <tbody>\n",
       "    <tr>\n",
       "      <th>0</th>\n",
       "      <td>2022</td>\n",
       "      <td>422</td>\n",
       "      <td>290</td>\n",
       "      <td>132</td>\n",
       "    </tr>\n",
       "  </tbody>\n",
       "</table>\n",
       "</div>"
      ],
      "text/plain": [
       "   year  total  singles  doubles\n",
       "0  2022    422      290      132"
      ]
     },
     "execution_count": 85,
     "metadata": {},
     "output_type": "execute_result"
    }
   ],
   "source": [
    "results"
   ]
  }
 ],
 "metadata": {
  "kernelspec": {
   "display_name": "Python 3",
   "language": "python",
   "name": "python3"
  },
  "language_info": {
   "codemirror_mode": {
    "name": "ipython",
    "version": 3
   },
   "file_extension": ".py",
   "mimetype": "text/x-python",
   "name": "python",
   "nbconvert_exporter": "python",
   "pygments_lexer": "ipython3",
   "version": "3.10.6"
  }
 },
 "nbformat": 4,
 "nbformat_minor": 2
}
