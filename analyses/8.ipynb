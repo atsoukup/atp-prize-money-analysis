{
 "cells": [
  {
   "cell_type": "code",
   "execution_count": 1,
   "metadata": {},
   "outputs": [],
   "source": [
    "# TODO: How much of an increase in prize money is required for 500 players to earn $100k+ per year"
   ]
  },
  {
   "cell_type": "code",
   "execution_count": 2,
   "metadata": {},
   "outputs": [],
   "source": [
    "# TODO: try doubling/tripling prize money for singles and doubles Challenger events winnings"
   ]
  },
  {
   "cell_type": "code",
   "execution_count": 3,
   "metadata": {},
   "outputs": [],
   "source": [
    "# TODO: combine the modified singles and doubles data so that each player has a\n",
    "# total prize money earned and a predominant type of play (i.e. singles or doubles)"
   ]
  },
  {
   "cell_type": "code",
   "execution_count": null,
   "metadata": {},
   "outputs": [],
   "source": [
    "# TODO: calculate the number of players who earn $100k+ per year and iterate"
   ]
  },
  {
   "cell_type": "code",
   "execution_count": 7,
   "metadata": {},
   "outputs": [],
   "source": [
    "import pandas as pd\n",
    "import datetime\n",
    "import json"
   ]
  },
  {
   "cell_type": "code",
   "execution_count": 25,
   "metadata": {},
   "outputs": [],
   "source": [
    "START_YEAR = 2009\n",
    "END_YEAR = datetime.datetime.now().year - 1\n",
    "CHALLENGER_PRIZE_MONEY_FACTOR = 2"
   ]
  },
  {
   "cell_type": "code",
   "execution_count": 11,
   "metadata": {},
   "outputs": [],
   "source": [
    "def clean_tournaments_string(tournaments_string):\n",
    "    tournaments_string = tournaments_string.replace(\"L'Aquila\", \"LAquila\")\n",
    "    tournaments_string = tournaments_string.replace(\"Queen's\", \"Queens\")\n",
    "    tournaments_string = tournaments_string.replace(\"'s-Hertogenbosch\", \"s-Hertogenbosch\")\n",
    "    tournaments_string = tournaments_string.replace(\"l'Orne\", \"lOrne\")\n",
    "    tournaments_string = tournaments_string.replace(\"D'Aro\", \"DAro\")\n",
    "    tournaments_string = tournaments_string.replace(\"'\", '\"')\n",
    "    return tournaments_string"
   ]
  },
  {
   "cell_type": "code",
   "execution_count": 37,
   "metadata": {},
   "outputs": [
    {
     "name": "stdout",
     "output_type": "stream",
     "text": [
      "se15\n",
      "520\n",
      "0\n",
      "0\n",
      "1020\n",
      "1300\n",
      "0\n"
     ]
    }
   ],
   "source": [
    "for year in range(START_YEAR, END_YEAR + 1):\n",
    "    df = pd.read_csv(f\"../data/players/combined/{year}.gz\")\n",
    "\n",
    "    for i, _ in df.iterrows():\n",
    "        player_prize_money = df.loc[i, \"total_prize_money\"]\n",
    "        print(df.loc[i, \"player_id\"])\n",
    "\n",
    "        clean_singles = clean_tournaments_string(df.loc[i, \"singles_tournaments\"])\n",
    "        singles_tournaments = json.loads(clean_singles[clean_singles.find(\"[\"):])\n",
    "        for singles_tournament in singles_tournaments:\n",
    "            if \"challenger\" in singles_tournament[\"tournament_type\"].lower():\n",
    "                tournament_prize_money = int(singles_tournament[\"prize_money\"][1:])\n",
    "                print(tournament_prize_money)\n",
    "                player_prize_money += tournament_prize_money * (CHALLENGER_PRIZE_MONEY_FACTOR - 1)\n",
    "            pass\n",
    "\n",
    "        clean_doubles = clean_tournaments_string(df.loc[i, \"doubles_tournaments\"])\n",
    "        doubles_tournaments = json.loads(clean_doubles[clean_doubles.find(\"[\"):])\n",
    "        for doubles_tournament in doubles_tournaments:\n",
    "            pass\n",
    "        break\n",
    "    break"
   ]
  }
 ],
 "metadata": {
  "kernelspec": {
   "display_name": "Python 3",
   "language": "python",
   "name": "python3"
  },
  "language_info": {
   "codemirror_mode": {
    "name": "ipython",
    "version": 3
   },
   "file_extension": ".py",
   "mimetype": "text/x-python",
   "name": "python",
   "nbconvert_exporter": "python",
   "pygments_lexer": "ipython3",
   "version": "3.10.6"
  }
 },
 "nbformat": 4,
 "nbformat_minor": 2
}
