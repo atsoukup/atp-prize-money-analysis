{
 "cells": [
  {
   "cell_type": "code",
   "execution_count": 2,
   "metadata": {},
   "outputs": [],
   "source": [
    "import requests\n",
    "from bs4 import BeautifulSoup\n",
    "import datetime"
   ]
  },
  {
   "cell_type": "code",
   "execution_count": 3,
   "metadata": {},
   "outputs": [],
   "source": [
    "START_YEAR = 2009\n",
    "END_YEAR = datetime.datetime.now().year - 1"
   ]
  },
  {
   "cell_type": "code",
   "execution_count": 7,
   "metadata": {},
   "outputs": [],
   "source": [
    "# loop through all years\n",
    "for i in range(START_YEAR, END_YEAR + 1):\n",
    "    # find the last Monday of the year\n",
    "    for j in range(31, 25, -1):\n",
    "        # collect singles data\n",
    "        url = f\"https://www.atptour.com/en/rankings/singles?rankRange=1-5000&rankDate={i}-12-{j}\"\n",
    "\n",
    "        response = requests.get(url)\n",
    "        soup = BeautifulSoup(response.text, \"html.parser\")\n",
    "        ranking_table = soup.find(\"table\", {\"class\": \"mega-table\"})\n",
    "        rows = ranking_table.find_all(\"tr\")\n",
    "\n",
    "        # skip if there is no data meaning that the date is not a Monday\n",
    "        if len(rows) == 1:\n",
    "            continue\n",
    "\n",
    "        for row in rows[1:]:\n",
    "            cells = row.find_all(\"td\")\n",
    "\n",
    "        # TODO: collect relevant data from cells and save to gzipped csv in data/overview/singles/{year}.gz\n",
    "        \n",
    "\n",
    "        # collect doubles data\n",
    "        url = f\"https://www.atptour.com/en/rankings/doubles?rankRange=1-5000&rankDate={i}-12-{j}\"\n",
    "\n",
    "        response = requests.get(url)\n",
    "        soup = BeautifulSoup(response.text, \"html.parser\")\n",
    "        ranking_table = soup.find(\"table\", {\"class\": \"mega-table\"})\n",
    "        rows = ranking_table.find_all(\"tr\")\n",
    "\n",
    "        for row in rows[1:]:\n",
    "            cells = row.find_all(\"td\")\n",
    "\n",
    "        # TODO: collect relevant data from cells and save to gzipped csv in data/overview/doubles/{year}.gz         \n",
    "        \n",
    "        break"
   ]
  },
  {
   "cell_type": "code",
   "execution_count": 1,
   "metadata": {},
   "outputs": [],
   "source": [
    "# TODO: for each data file, loop through each player and collect their activity\n",
    "# data for the give year and save to gzipped csv in data/activity/{singles or doubles}/{year}.gz\n",
    "# only collect data for players inside the top 750 for singles and the top 250 for doubles\n",
    "\n"
   ]
  }
 ],
 "metadata": {
  "kernelspec": {
   "display_name": "Python 3",
   "language": "python",
   "name": "python3"
  },
  "language_info": {
   "codemirror_mode": {
    "name": "ipython",
    "version": 3
   },
   "file_extension": ".py",
   "mimetype": "text/x-python",
   "name": "python",
   "nbconvert_exporter": "python",
   "pygments_lexer": "ipython3",
   "version": "3.10.6"
  }
 },
 "nbformat": 4,
 "nbformat_minor": 2
}
